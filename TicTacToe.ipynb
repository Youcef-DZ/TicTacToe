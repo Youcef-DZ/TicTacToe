{
 "cells": [
  {
   "cell_type": "markdown",
   "id": "secure-valentine",
   "metadata": {},
   "source": [
    "**Tic Tac Toe**\n",
    "\n",
    "### Tic-tac-toe Definition\n",
    "\n",
    "> Tic-tac-toe is a simple game in which two players take turns to write Os or Xs in a set of nine squares. The first player to complete a row of three Os or three Xs is the winner. [Oxford Dictionary](https://www.oxfordlearnersdictionaries.com/us/definition/english/tic-tac-toe?q=tic+tac+toe)\n",
    "\n",
    "\n",
    "TicTacToe Board with playing positions:\n",
    "\n",
    "                         |     |\n",
    "                      0  |  1  |  2\n",
    "                    _____|_____|_____\n",
    "                         |     |\n",
    "                      3  |  4  |  5\n",
    "                    _____|_____|_____\n",
    "                         |     |\n",
    "                      6  |  7  |  8\n",
    "                         |     |\n",
    "             \n",
    "Winning combinations:\n",
    "\n",
    "        [0, 1, 2], [3, 4, 5], [6, 7, 8],  // Rows       \n",
    "        [0, 3, 6], [1, 4, 7], [2, 5, 8],  // Cols\n",
    "        [0, 4, 8], [6, 4, 2]              // Diags\n",
    "\n",
    "### Requirments\n",
    "\n",
    "#### Create a Game\n",
    "1. To create a game, the player need to send 1 ether and select a mark (X or O)\n",
    "2. Game creator joins the game as the first player automatically (contract owner cannot join the game)\n",
    "\n",
    "#### Join a Game\n",
    "3. For a second player to join an existing game, need to send 1 ether.\n",
    "4. Can't join a non-existing game.\n",
    "5. Can't join a game that has already been started or been over\n",
    "6. Second player will be automatically assigned to X if player 1 selcts O and vice versa.\n",
    "\n",
    "#### Play\n",
    "7. Once the second player joins, the game starts\n",
    "8. First player plays first\n",
    "9. Each player will have two minutes to make a move; or the game will be over (loses).\n",
    "\n",
    "#### End Game\n",
    "10. The game is over when a winner can be found, or the game draws\n",
    "11. If there is a winner, transfer 1.8 ether to winner's address\n",
    "12. If the game ended in draw, return 0.9 for each players\n",
    "13. Contract owner keeps 0.1 ether from each player"
   ]
  },
  {
   "cell_type": "markdown",
   "id": "adjusted-refund",
   "metadata": {},
   "source": [
    "### Imports"
   ]
  },
  {
   "cell_type": "code",
   "execution_count": 76,
   "id": "choice-girlfriend",
   "metadata": {},
   "outputs": [],
   "source": [
    "import os\n",
    "from solcx import install_solc, set_solc_version, set_solc_version, compile_source, compile_files\n",
    "from web3 import Web3, EthereumTesterProvider\n",
    "\n",
    "from eth_tester.exceptions import TransactionFailed\n",
    "from eth_tester import EthereumTester"
   ]
  },
  {
   "cell_type": "code",
   "execution_count": 77,
   "id": "integrated-document",
   "metadata": {},
   "outputs": [],
   "source": [
    "install_solc('0.7.6')\n",
    "set_solc_version('0.7.6')"
   ]
  },
  {
   "cell_type": "markdown",
   "id": "relative-career",
   "metadata": {},
   "source": [
    "Define python function to be used to print the grid board."
   ]
  },
  {
   "cell_type": "code",
   "execution_count": 78,
   "id": "utility-phoenix",
   "metadata": {},
   "outputs": [],
   "source": [
    "# Print tic tac toe board from array passed\n",
    "def printBoard(strGrid):\n",
    "    cells = strGrid.split(',')\n",
    "    \n",
    "    print(\"\\n\")\n",
    "    print(\"\\t     |     |\")\n",
    "    print(\"\\t  {}  |  {}  |  {}\".format(cells[0], cells[1], cells[2]))\n",
    "    print('\\t_____|_____|_____')\n",
    " \n",
    "    print(\"\\t     |     |\")\n",
    "    print(\"\\t  {}  |  {}  |  {}\".format(cells[3], cells[4], cells[5]))\n",
    "    print('\\t_____|_____|_____')\n",
    " \n",
    "    print(\"\\t     |     |\")\n",
    " \n",
    "    print(\"\\t  {}  |  {}  |  {}\".format(cells[6], cells[7], cells[8]))\n",
    "    print(\"\\t     |     |\")\n",
    "    print(\"\\n\")"
   ]
  },
  {
   "cell_type": "markdown",
   "id": "painful-nepal",
   "metadata": {},
   "source": [
    "Intialize `web3` and use the `EthreumTesterProvider` for our backend:"
   ]
  },
  {
   "cell_type": "code",
   "execution_count": 79,
   "id": "sapphire-marine",
   "metadata": {},
   "outputs": [],
   "source": [
    "TESTER = EthereumTester()\n",
    "provider = Web3.EthereumTesterProvider(ethereum_tester=TESTER)\n",
    "w3 = Web3(provider)"
   ]
  },
  {
   "cell_type": "markdown",
   "id": "certain-abraham",
   "metadata": {},
   "source": [
    "Define three addresses to be used for testing the game:"
   ]
  },
  {
   "cell_type": "code",
   "execution_count": 80,
   "id": "willing-factor",
   "metadata": {},
   "outputs": [],
   "source": [
    "GAME_CONTRACT_ACCOUNT = w3.eth.accounts[0]\n",
    "PLAYER_1_ACCOUNT = w3.eth.accounts[1]\n",
    "PLAYER_2_ACCOUNT = w3.eth.accounts[2]"
   ]
  },
  {
   "cell_type": "markdown",
   "id": "moving-signal",
   "metadata": {},
   "source": [
    "Compiler the solidity contract:"
   ]
  },
  {
   "cell_type": "code",
   "execution_count": 81,
   "id": "streaming-angle",
   "metadata": {},
   "outputs": [],
   "source": [
    "source_file_name = os.path.join(os.getcwd(), 'contracts', 'TicTacToe.sol')\n",
    "compiled_sol = compile_files([source_file_name]) \n",
    "contract_compiled = compiled_sol[source_file_name + \":\" + \"TicTacToe\"]"
   ]
  },
  {
   "cell_type": "markdown",
   "id": "drawn-relation",
   "metadata": {},
   "source": [
    "Get the contract interface:"
   ]
  },
  {
   "cell_type": "code",
   "execution_count": 82,
   "id": "solved-slovakia",
   "metadata": {},
   "outputs": [],
   "source": [
    "# create the Game contract interface\n",
    "contract_interface = w3.eth.contract(abi=contract_compiled['abi'], bytecode=contract_compiled['bin'])\n",
    "# call contract constructor to initialize\n",
    "tx_hash = contract_interface.constructor().transact({'from': GAME_CONTRACT_ACCOUNT})"
   ]
  },
  {
   "cell_type": "markdown",
   "id": "sporting-amazon",
   "metadata": {},
   "source": [
    "Get contract receipt and interface:"
   ]
  },
  {
   "cell_type": "code",
   "execution_count": 83,
   "id": "16af0d52-f78e-4069-a49b-4f699aa2fc95",
   "metadata": {},
   "outputs": [],
   "source": [
    "tx_receipt = w3.eth.wait_for_transaction_receipt(tx_hash)"
   ]
  },
  {
   "cell_type": "code",
   "execution_count": 84,
   "id": "7fbc23cf-7a3c-4c71-a05a-cdcfae38152d",
   "metadata": {},
   "outputs": [],
   "source": [
    "ttt_contract = contract_interface(address = tx_receipt['contractAddress'])"
   ]
  },
  {
   "cell_type": "markdown",
   "id": "frank-excuse",
   "metadata": {},
   "source": [
    "### Simple Game"
   ]
  },
  {
   "cell_type": "markdown",
   "id": "9a3790dc-4c39-4ed7-bc12-0c7f228466a0",
   "metadata": {},
   "source": [
    "Create a game with `PLAYER_1_ACCOUNT` as the creator:"
   ]
  },
  {
   "cell_type": "code",
   "execution_count": 85,
   "id": "careful-mumbai",
   "metadata": {},
   "outputs": [],
   "source": [
    "tx_dict_1 = { 'from': PLAYER_1_ACCOUNT, 'value': w3.toWei(1, 'ether') }\n",
    "try:\n",
    "    ttt_contract.functions.createGame(\"X\").transact(tx_dict_1) \n",
    "except TransactionFailed as err:\n",
    "    print(err) "
   ]
  },
  {
   "cell_type": "markdown",
   "id": "forward-catch",
   "metadata": {},
   "source": [
    "Print board for the game returned by the contract:"
   ]
  },
  {
   "cell_type": "code",
   "execution_count": 86,
   "id": "sound-destruction",
   "metadata": {},
   "outputs": [
    {
     "name": "stdout",
     "output_type": "stream",
     "text": [
      "\n",
      "\n",
      "\t     |     |\n",
      "\t  -  |  -  |  -\n",
      "\t_____|_____|_____\n",
      "\t     |     |\n",
      "\t  -  |  -  |  -\n",
      "\t_____|_____|_____\n",
      "\t     |     |\n",
      "\t  -  |  -  |  -\n",
      "\t     |     |\n",
      "\n",
      "\n"
     ]
    }
   ],
   "source": [
    "gridStr = ttt_contract.functions.getCurrentGrid(PLAYER_1_ACCOUNT).call()\n",
    "printBoard(gridStr)"
   ]
  },
  {
   "cell_type": "markdown",
   "id": "dominant-property",
   "metadata": {},
   "source": [
    "Check contract balance, should be 1 ether added by `PLAYER_1_ACCOUNT`"
   ]
  },
  {
   "cell_type": "code",
   "execution_count": 87,
   "id": "composite-senior",
   "metadata": {},
   "outputs": [
    {
     "data": {
      "text/plain": [
       "Decimal('1')"
      ]
     },
     "execution_count": 87,
     "metadata": {},
     "output_type": "execute_result"
    }
   ],
   "source": [
    "wei_bal = ttt_contract.functions.balanceOfContract().call()\n",
    "eth_amount = w3.fromWei(wei_bal, 'ether')\n",
    "eth_amount"
   ]
  },
  {
   "cell_type": "markdown",
   "id": "choice-greeting",
   "metadata": {},
   "source": [
    "Join `PLAYER_2_ACCOUNT` to `PLAYER_1_ACCOUNT` Game"
   ]
  },
  {
   "cell_type": "code",
   "execution_count": 88,
   "id": "worthy-soundtrack",
   "metadata": {},
   "outputs": [],
   "source": [
    "tx_dict_2 = { 'from': PLAYER_2_ACCOUNT, 'value': w3.toWei(1, 'ether') }\n",
    "try:\n",
    "    ttt_contract.functions.joinGame(PLAYER_1_ACCOUNT).transact(tx_dict_2) \n",
    "except TransactionFailed as err:\n",
    "    print(err) "
   ]
  },
  {
   "cell_type": "markdown",
   "id": "electric-sucking",
   "metadata": {},
   "source": [
    "Check contract balance, should be 2 ether added by `PLAYER_1_ACCOUNT`"
   ]
  },
  {
   "cell_type": "code",
   "execution_count": 89,
   "id": "promotional-serum",
   "metadata": {},
   "outputs": [
    {
     "data": {
      "text/plain": [
       "Decimal('2')"
      ]
     },
     "execution_count": 89,
     "metadata": {},
     "output_type": "execute_result"
    }
   ],
   "source": [
    "wei_bal = ttt_contract.functions.balanceOfContract().call()\n",
    "eth_amount = w3.fromWei(wei_bal, 'ether')\n",
    "eth_amount"
   ]
  },
  {
   "cell_type": "markdown",
   "id": "advised-opportunity",
   "metadata": {},
   "source": [
    "Make player 1 play position 0"
   ]
  },
  {
   "cell_type": "code",
   "execution_count": 90,
   "id": "b5f64e66-fc48-4490-bcd6-6d9f1806ef36",
   "metadata": {},
   "outputs": [],
   "source": [
    "try:\n",
    "    ttt_contract.functions.play(PLAYER_1_ACCOUNT, 0).transact({'from': PLAYER_1_ACCOUNT}) # player 1 plays position 0\n",
    "except TransactionFailed as err:\n",
    "    print(err) "
   ]
  },
  {
   "cell_type": "markdown",
   "id": "aaff6618-102a-4a6e-8437-3760be08754a",
   "metadata": {},
   "source": [
    "Show current board"
   ]
  },
  {
   "cell_type": "code",
   "execution_count": 91,
   "id": "cf2e49ca-585d-4b6b-a93b-8d10f2c97843",
   "metadata": {},
   "outputs": [
    {
     "name": "stdout",
     "output_type": "stream",
     "text": [
      "\n",
      "\n",
      "\t     |     |\n",
      "\t  X  |  -  |  -\n",
      "\t_____|_____|_____\n",
      "\t     |     |\n",
      "\t  -  |  -  |  -\n",
      "\t_____|_____|_____\n",
      "\t     |     |\n",
      "\t  -  |  -  |  -\n",
      "\t     |     |\n",
      "\n",
      "\n"
     ]
    }
   ],
   "source": [
    "gridStr = ttt_contract.functions.getCurrentGrid(PLAYER_1_ACCOUNT).call()\n",
    "printBoard(gridStr)"
   ]
  },
  {
   "cell_type": "markdown",
   "id": "6f1b9c88-fb43-4961-a9e3-920bd79f8f04",
   "metadata": {},
   "source": [
    "Make player 2 play position 3"
   ]
  },
  {
   "cell_type": "code",
   "execution_count": 92,
   "id": "d6eb05c7-bdbd-47ad-b08f-8ed251fc9ee1",
   "metadata": {},
   "outputs": [],
   "source": [
    "try:\n",
    "    ttt_contract.functions.play(PLAYER_1_ACCOUNT, 3).transact({'from': PLAYER_2_ACCOUNT}) # player 2 plays position 3\n",
    "except TransactionFailed as err:\n",
    "    print(err) "
   ]
  },
  {
   "cell_type": "markdown",
   "id": "fc2297bc-ebd9-4673-8f8a-efb0c5d379cf",
   "metadata": {},
   "source": [
    "Show current board"
   ]
  },
  {
   "cell_type": "code",
   "execution_count": 93,
   "id": "5a240570-9397-429c-831f-fbcac1204c07",
   "metadata": {},
   "outputs": [
    {
     "name": "stdout",
     "output_type": "stream",
     "text": [
      "\n",
      "\n",
      "\t     |     |\n",
      "\t  X  |  -  |  -\n",
      "\t_____|_____|_____\n",
      "\t     |     |\n",
      "\t  O  |  -  |  -\n",
      "\t_____|_____|_____\n",
      "\t     |     |\n",
      "\t  -  |  -  |  -\n",
      "\t     |     |\n",
      "\n",
      "\n"
     ]
    }
   ],
   "source": [
    "gridStr = ttt_contract.functions.getCurrentGrid(PLAYER_1_ACCOUNT).call()\n",
    "printBoard(gridStr)"
   ]
  },
  {
   "cell_type": "markdown",
   "id": "cc06b8b1-ae77-4f9a-a326-5361aa21e368",
   "metadata": {},
   "source": [
    "Make some moves to make player 2 win the game:"
   ]
  },
  {
   "cell_type": "code",
   "execution_count": 94,
   "id": "85c1a165-2eb5-44c5-a823-c4ea88b8f9f3",
   "metadata": {},
   "outputs": [],
   "source": [
    "try:\n",
    "    ttt_contract.functions.play(PLAYER_1_ACCOUNT, 7).transact({'from': PLAYER_1_ACCOUNT}) # player 1 plays position 7\n",
    "    ttt_contract.functions.play(PLAYER_1_ACCOUNT, 5).transact({'from': PLAYER_2_ACCOUNT}) # player 2 plays position 5\n",
    "    ttt_contract.functions.play(PLAYER_1_ACCOUNT, 2).transact({'from': PLAYER_1_ACCOUNT}) # player 1 plays position 2\n",
    "    ttt_contract.functions.play(PLAYER_1_ACCOUNT, 4).transact({'from': PLAYER_2_ACCOUNT}) # player 2 plays position 4\n",
    "except TransactionFailed as err:\n",
    "    print(err) "
   ]
  },
  {
   "cell_type": "markdown",
   "id": "demanding-bread",
   "metadata": {},
   "source": [
    "Show board with player 2 winning with combination [3, 4, 5]"
   ]
  },
  {
   "cell_type": "code",
   "execution_count": 95,
   "id": "stock-joseph",
   "metadata": {},
   "outputs": [
    {
     "name": "stdout",
     "output_type": "stream",
     "text": [
      "\n",
      "\n",
      "\t     |     |\n",
      "\t  X  |  -  |  X\n",
      "\t_____|_____|_____\n",
      "\t     |     |\n",
      "\t  O  |  O  |  O\n",
      "\t_____|_____|_____\n",
      "\t     |     |\n",
      "\t  -  |  X  |  -\n",
      "\t     |     |\n",
      "\n",
      "\n"
     ]
    }
   ],
   "source": [
    "gridStr = ttt_contract.functions.getCurrentGrid(PLAYER_1_ACCOUNT).call()\n",
    "printBoard(gridStr)"
   ]
  },
  {
   "cell_type": "markdown",
   "id": "conservative-scanning",
   "metadata": {},
   "source": [
    "Show contract balance, should 0.2 ether after trasnfering 1.8 ether to `PLAYER_2_ACCOUNT`"
   ]
  },
  {
   "cell_type": "markdown",
   "id": "74624b2d-2bd4-4d64-8e86-27996d1f08bd",
   "metadata": {},
   "source": [
    "Get Game status"
   ]
  },
  {
   "cell_type": "code",
   "execution_count": 96,
   "id": "97b559c7-01c4-4ebc-b7c3-fe6d85ba39f7",
   "metadata": {},
   "outputs": [
    {
     "data": {
      "text/plain": [
       "'WINNER'"
      ]
     },
     "execution_count": 96,
     "metadata": {},
     "output_type": "execute_result"
    }
   ],
   "source": [
    "status = ttt_contract.functions.getStatus(PLAYER_1_ACCOUNT).call()\n",
    "status"
   ]
  },
  {
   "cell_type": "markdown",
   "id": "0bf107c7-4c70-4afa-81f8-d904533e2c71",
   "metadata": {},
   "source": [
    "Get winner:"
   ]
  },
  {
   "cell_type": "code",
   "execution_count": 97,
   "id": "a62f4a6e-f2c7-43c3-9da7-de3bef851bbe",
   "metadata": {},
   "outputs": [
    {
     "data": {
      "text/plain": [
       "'Player 2'"
      ]
     },
     "execution_count": 97,
     "metadata": {},
     "output_type": "execute_result"
    }
   ],
   "source": [
    "winner = ttt_contract.functions.getWinner(PLAYER_1_ACCOUNT).call()\n",
    "winner"
   ]
  },
  {
   "cell_type": "code",
   "execution_count": 98,
   "id": "209b578a-83a6-413b-bb4e-79f680718b9f",
   "metadata": {},
   "outputs": [
    {
     "data": {
      "text/plain": [
       "Decimal('0.2')"
      ]
     },
     "execution_count": 98,
     "metadata": {},
     "output_type": "execute_result"
    }
   ],
   "source": [
    "wei_bal = ttt_contract.functions.balanceOfContract().call()\n",
    "eth_amount = w3.fromWei(wei_bal, 'ether')\n",
    "eth_amount"
   ]
  },
  {
   "cell_type": "markdown",
   "id": "extra-pursuit",
   "metadata": {},
   "source": [
    "Get player 2 ether balance, should be about 0.8 ether higher than the started balance"
   ]
  },
  {
   "cell_type": "code",
   "execution_count": 99,
   "id": "stupid-pocket",
   "metadata": {},
   "outputs": [
    {
     "data": {
      "text/plain": [
       "Decimal('1000000.799999999999640549')"
      ]
     },
     "execution_count": 99,
     "metadata": {},
     "output_type": "execute_result"
    }
   ],
   "source": [
    "wei_bal = w3.eth.get_balance(PLAYER_2_ACCOUNT)\n",
    "eth_amount = w3.fromWei(wei_bal, 'ether')\n",
    "eth_amount"
   ]
  },
  {
   "cell_type": "markdown",
   "id": "48755ceb-12b1-40ee-bec6-0623dadf88f0",
   "metadata": {},
   "source": [
    "Get player 1 ether balance, should be about 1 ether less than the started balance"
   ]
  },
  {
   "cell_type": "code",
   "execution_count": 101,
   "id": "6fca42b2-f5c4-4312-8d35-5fffd1ab9f9a",
   "metadata": {},
   "outputs": [
    {
     "data": {
      "text/plain": [
       "Decimal('999998.999999999999397067')"
      ]
     },
     "execution_count": 101,
     "metadata": {},
     "output_type": "execute_result"
    }
   ],
   "source": [
    "wei_bal = w3.eth.get_balance(PLAYER_1_ACCOUNT)\n",
    "eth_amount = w3.fromWei(wei_bal, 'ether')\n",
    "eth_amount"
   ]
  },
  {
   "cell_type": "markdown",
   "id": "f23628d9-f59a-46b5-a467-cade76a693b8",
   "metadata": {},
   "source": [
    "### Testing Requirments"
   ]
  },
  {
   "cell_type": "markdown",
   "id": "6fa1923f-8117-4951-8ad4-5973c9643b4d",
   "metadata": {},
   "source": [
    "Try creating a game as the contract owner:"
   ]
  },
  {
   "cell_type": "code",
   "execution_count": 102,
   "id": "f593c0e1-4894-4244-a8b0-c4dc2e6de04f",
   "metadata": {},
   "outputs": [
    {
     "name": "stdout",
     "output_type": "stream",
     "text": [
      "execution reverted: owner cannot play\n"
     ]
    }
   ],
   "source": [
    "tx_dict_1 = { 'from': GAME_CONTRACT_ACCOUNT, 'value': w3.toWei(1, 'ether') }\n",
    "try:\n",
    "    ttt_contract.functions.createGame(\"X\").transact(tx_dict_1) \n",
    "except TransactionFailed as err:\n",
    "    print(err) "
   ]
  },
  {
   "cell_type": "markdown",
   "id": "abd4442c-6e1a-49b3-9a44-591bceda7eec",
   "metadata": {},
   "source": [
    "Try creating a game with the wrong mark"
   ]
  },
  {
   "cell_type": "code",
   "execution_count": 103,
   "id": "0f4554c1-69db-4ded-919d-966e7961b2c4",
   "metadata": {},
   "outputs": [
    {
     "name": "stdout",
     "output_type": "stream",
     "text": [
      "execution reverted: Select X or O\n"
     ]
    }
   ],
   "source": [
    "tx_dict_1 = { 'from': PLAYER_1_ACCOUNT, 'value': w3.toWei(1, 'ether') }\n",
    "try:\n",
    "    ttt_contract.functions.createGame(\"S\").transact(tx_dict_1) \n",
    "except TransactionFailed as err:\n",
    "    print(err) "
   ]
  },
  {
   "cell_type": "markdown",
   "id": "a0ed0c81-41ce-4150-8658-c3bd6245b368",
   "metadata": {},
   "source": [
    "Try creatig a game without sending 1 ether"
   ]
  },
  {
   "cell_type": "code",
   "execution_count": 104,
   "id": "e748562b-f611-444e-b124-a83d5cc067d4",
   "metadata": {},
   "outputs": [
    {
     "name": "stdout",
     "output_type": "stream",
     "text": [
      "execution reverted: You have to pay 1 ether to create a game!\n"
     ]
    }
   ],
   "source": [
    "tx_dict_1 = { 'from': PLAYER_1_ACCOUNT }\n",
    "try:\n",
    "    ttt_contract.functions.createGame(\"X\").transact(tx_dict_1) \n",
    "except TransactionFailed as err:\n",
    "    print(err)"
   ]
  },
  {
   "cell_type": "markdown",
   "id": "c4e8ea61-9cef-4327-953f-70372876a8cc",
   "metadata": {},
   "source": [
    "Try making game creator joining the game"
   ]
  },
  {
   "cell_type": "code",
   "execution_count": 105,
   "id": "0f316041-9def-4309-b3b1-3b67afe6d602",
   "metadata": {},
   "outputs": [
    {
     "name": "stdout",
     "output_type": "stream",
     "text": [
      "execution reverted: You are the creator of the game, automatically joind!\n"
     ]
    }
   ],
   "source": [
    "tx_dict_2 = { 'from': PLAYER_1_ACCOUNT, 'value': w3.toWei(1, 'ether') }\n",
    "try:\n",
    "    ttt_contract.functions.joinGame(PLAYER_1_ACCOUNT).transact(tx_dict_2) \n",
    "except TransactionFailed as err:\n",
    "    print(err) "
   ]
  },
  {
   "cell_type": "markdown",
   "id": "b29bccd1-6dec-4e24-a423-0e8ccecdb2dd",
   "metadata": {},
   "source": [
    "Try joining a game that was over"
   ]
  },
  {
   "cell_type": "code",
   "execution_count": 106,
   "id": "9f27788c-ebfc-4836-afbd-852ca7e92a65",
   "metadata": {},
   "outputs": [
    {
     "name": "stdout",
     "output_type": "stream",
     "text": [
      "execution reverted: Game already started or its over!\n"
     ]
    }
   ],
   "source": [
    "tx_dict_2 = { 'from': PLAYER_2_ACCOUNT, 'value': w3.toWei(1, 'ether') }\n",
    "try:\n",
    "    ttt_contract.functions.joinGame(PLAYER_1_ACCOUNT).transact(tx_dict_2) \n",
    "except TransactionFailed as err:\n",
    "    print(err) "
   ]
  },
  {
   "cell_type": "markdown",
   "id": "cf2ca9ce-1f33-489e-b388-21780ce29fd5",
   "metadata": {},
   "source": [
    "Trying making a move on game that was over"
   ]
  },
  {
   "cell_type": "code",
   "execution_count": 107,
   "id": "6f38fd7d-0532-45a5-98d9-a0f17ac50135",
   "metadata": {},
   "outputs": [
    {
     "name": "stdout",
     "output_type": "stream",
     "text": [
      "execution reverted: Game is not playing\n"
     ]
    }
   ],
   "source": [
    "try:\n",
    "    ttt_contract.functions.play(PLAYER_1_ACCOUNT, 3).transact({'from': PLAYER_2_ACCOUNT}) # player 2 plays position 3\n",
    "except TransactionFailed as err:\n",
    "    print(err) "
   ]
  },
  {
   "cell_type": "markdown",
   "id": "63809bf2-570f-4f86-8e1e-9b28089447bf",
   "metadata": {},
   "source": [
    "Create a valid game for further testing"
   ]
  },
  {
   "cell_type": "code",
   "execution_count": 108,
   "id": "b3805d91-971e-49e8-992b-5cd15b5d25ed",
   "metadata": {},
   "outputs": [],
   "source": [
    "try:\n",
    "    ttt_contract.functions.createGame(\"X\").transact({ 'from': w3.eth.accounts[3], 'value': w3.toWei(1, 'ether') }) \n",
    "    ttt_contract.functions.joinGame(w3.eth.accounts[3]).transact({ 'from': w3.eth.accounts[4], 'value': w3.toWei(1, 'ether') }) \n",
    "except TransactionFailed as err:\n",
    "    print(err)"
   ]
  },
  {
   "cell_type": "markdown",
   "id": "45d04056-6fd9-4cdc-9bee-7f5570b631e1",
   "metadata": {},
   "source": [
    "Trying playing when its not your turn"
   ]
  },
  {
   "cell_type": "code",
   "execution_count": 109,
   "id": "0108690b-31d5-4387-828f-67c4583bdc25",
   "metadata": {},
   "outputs": [
    {
     "name": "stdout",
     "output_type": "stream",
     "text": [
      "execution reverted: Its not your turn\n"
     ]
    }
   ],
   "source": [
    "try:\n",
    "    ttt_contract.functions.play(w3.eth.accounts[3], 3).transact({'from': w3.eth.accounts[4]})\n",
    "except TransactionFailed as err:\n",
    "    print(err)"
   ]
  },
  {
   "cell_type": "markdown",
   "id": "90f7979a-7a06-4900-818e-b061a9847a60",
   "metadata": {},
   "source": [
    "Make a none-valid move"
   ]
  },
  {
   "cell_type": "code",
   "execution_count": 110,
   "id": "b4b82556-4560-454b-a58f-8375ece369f3",
   "metadata": {},
   "outputs": [
    {
     "name": "stdout",
     "output_type": "stream",
     "text": [
      "execution reverted: Not a valid move!\n"
     ]
    }
   ],
   "source": [
    "try:\n",
    "    ttt_contract.functions.play(w3.eth.accounts[3], 12).transact({'from': w3.eth.accounts[3]})\n",
    "except TransactionFailed as err:\n",
    "    print(err)"
   ]
  },
  {
   "cell_type": "markdown",
   "id": "9ed0a3e1-2cf4-4648-b701-078206bbbc4b",
   "metadata": {},
   "source": [
    "Make some moves to make the game end draw"
   ]
  },
  {
   "cell_type": "code",
   "execution_count": 111,
   "id": "92bfe879-c918-4d33-b7a8-7bce1cdfdc58",
   "metadata": {},
   "outputs": [],
   "source": [
    "try:\n",
    "    ttt_contract.functions.play(w3.eth.accounts[3], 7).transact({'from': w3.eth.accounts[3]}) \n",
    "    ttt_contract.functions.play(w3.eth.accounts[3], 5).transact({'from': w3.eth.accounts[4]}) \n",
    "    ttt_contract.functions.play(w3.eth.accounts[3], 2).transact({'from': w3.eth.accounts[3]}) \n",
    "    ttt_contract.functions.play(w3.eth.accounts[3], 4).transact({'from': w3.eth.accounts[4]}) \n",
    "    ttt_contract.functions.play(w3.eth.accounts[3], 3).transact({'from': w3.eth.accounts[3]}) \n",
    "    ttt_contract.functions.play(w3.eth.accounts[3], 6).transact({'from': w3.eth.accounts[4]}) \n",
    "    ttt_contract.functions.play(w3.eth.accounts[3], 1).transact({'from': w3.eth.accounts[3]}) \n",
    "    ttt_contract.functions.play(w3.eth.accounts[3], 0).transact({'from': w3.eth.accounts[4]}) \n",
    "    ttt_contract.functions.play(w3.eth.accounts[3], 8).transact({'from': w3.eth.accounts[3]})\n",
    "except TransactionFailed as err:\n",
    "    print(err) "
   ]
  },
  {
   "cell_type": "markdown",
   "id": "1d8bf117-5cc5-4b5e-bfa3-069abaa1ea3c",
   "metadata": {},
   "source": [
    "Print the board"
   ]
  },
  {
   "cell_type": "code",
   "execution_count": 112,
   "id": "b9d7fa4d-961d-4dee-8422-a84268711942",
   "metadata": {},
   "outputs": [
    {
     "name": "stdout",
     "output_type": "stream",
     "text": [
      "\n",
      "\n",
      "\t     |     |\n",
      "\t  O  |  X  |  X\n",
      "\t_____|_____|_____\n",
      "\t     |     |\n",
      "\t  X  |  O  |  O\n",
      "\t_____|_____|_____\n",
      "\t     |     |\n",
      "\t  O  |  X  |  X\n",
      "\t     |     |\n",
      "\n",
      "\n"
     ]
    }
   ],
   "source": [
    "gridStr = ttt_contract.functions.getCurrentGrid(w3.eth.accounts[3]).call()\n",
    "printBoard(gridStr)"
   ]
  },
  {
   "cell_type": "markdown",
   "id": "31fa9364-bcf4-4501-a92c-e82f4734ed75",
   "metadata": {},
   "source": [
    "Get game status"
   ]
  },
  {
   "cell_type": "code",
   "execution_count": 114,
   "id": "8cf4d78d-1a93-4259-83be-1d20574e1eb0",
   "metadata": {},
   "outputs": [
    {
     "data": {
      "text/plain": [
       "'Draw'"
      ]
     },
     "execution_count": 114,
     "metadata": {},
     "output_type": "execute_result"
    }
   ],
   "source": [
    "status = ttt_contract.functions.getStatus(w3.eth.accounts[3]).call()\n",
    "status"
   ]
  },
  {
   "cell_type": "markdown",
   "id": "b5347f55-dd17-4898-9072-9db8f484ec28",
   "metadata": {},
   "source": [
    "Try getting game winner"
   ]
  },
  {
   "cell_type": "code",
   "execution_count": 115,
   "id": "6a713eb1-a128-44b6-9655-726e9d9492c2",
   "metadata": {},
   "outputs": [
    {
     "data": {
      "text/plain": [
       "'Draw'"
      ]
     },
     "execution_count": 115,
     "metadata": {},
     "output_type": "execute_result"
    }
   ],
   "source": [
    "winner = ttt_contract.functions.getWinner(w3.eth.accounts[3]).call()\n",
    "winner"
   ]
  },
  {
   "cell_type": "markdown",
   "id": "4f1cc116-ba50-468c-b588-484a4a10fc82",
   "metadata": {},
   "source": [
    "Check player 1 balance, should be about 0.8 ether"
   ]
  },
  {
   "cell_type": "code",
   "execution_count": 116,
   "id": "b4b3a6dd-b780-4562-907e-7fbc01f14032",
   "metadata": {},
   "outputs": [
    {
     "data": {
      "text/plain": [
       "Decimal('999999.899999999999199307')"
      ]
     },
     "execution_count": 116,
     "metadata": {},
     "output_type": "execute_result"
    }
   ],
   "source": [
    "wei_bal = w3.eth.get_balance(w3.eth.accounts[3])\n",
    "eth_amount = w3.fromWei(wei_bal, 'ether')\n",
    "eth_amount"
   ]
  },
  {
   "cell_type": "markdown",
   "id": "d1ba014a-3da9-47fc-b005-d34668ff415f",
   "metadata": {},
   "source": [
    "Check player 2 balance, should be about 0.8 ether"
   ]
  },
  {
   "cell_type": "code",
   "execution_count": 117,
   "id": "99fa8410-e416-4747-a7c6-956ddaae16a5",
   "metadata": {},
   "outputs": [
    {
     "data": {
      "text/plain": [
       "Decimal('999999.899999999999199307')"
      ]
     },
     "execution_count": 117,
     "metadata": {},
     "output_type": "execute_result"
    }
   ],
   "source": [
    "wei_bal = w3.eth.get_balance(w3.eth.accounts[3])\n",
    "eth_amount = w3.fromWei(wei_bal, 'ether')\n",
    "eth_amount"
   ]
  }
 ],
 "metadata": {
  "kernelspec": {
   "display_name": "Python 3",
   "language": "python",
   "name": "python3"
  },
  "language_info": {
   "codemirror_mode": {
    "name": "ipython",
    "version": 3
   },
   "file_extension": ".py",
   "mimetype": "text/x-python",
   "name": "python",
   "nbconvert_exporter": "python",
   "pygments_lexer": "ipython3",
   "version": "3.6.13"
  }
 },
 "nbformat": 4,
 "nbformat_minor": 5
}
